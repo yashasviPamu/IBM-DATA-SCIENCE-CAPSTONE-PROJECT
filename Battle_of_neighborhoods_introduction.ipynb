{
 "cells": [
  {
   "cell_type": "markdown",
   "metadata": {},
   "source": [
    "<h1> <i><center> Capstone Project </center></i> \n",
    "# * Battle of Neighbourhoods Introduction *"
   ]
  },
  {
   "cell_type": "markdown",
   "metadata": {},
   "source": [
    "## *Background:*\n",
    "\n",
    "### My cousin's family are planning on moving from Toronto to Scarborough and they were thinking of finding a place with a grocery store and Indian restaurant so they approached me to help them out in finding the ideal spot for them to move in and as well having all the eminities which they had back in downtown Toronto. "
   ]
  },
  {
   "cell_type": "markdown",
   "metadata": {},
   "source": []
  },
  {
   "cell_type": "markdown",
   "metadata": {},
   "source": [
    "## *Requirements*:\n",
    "### 1.They want to keep their lifestyle as before, recommend neighbourhoods which are similar to their former one.(Central Bay Street)\n",
    "### 2.They want their neighbourhood has a Indian restaurant.\n",
    "### 3.They want their neighbourhood has a asian grocery store."
   ]
  },
  {
   "cell_type": "markdown",
   "metadata": {},
   "source": [
    "## *Problem:*"
   ]
  },
  {
   "cell_type": "markdown",
   "metadata": {},
   "source": [
    "### The requirements they mentioned are quite simple yet requires the data and knowledge of the places around in the Scarborough and the venues around it. To find a place where the neighborhoods are similar to the ones they were before in downtown as well as having an Indian restaurant nearby and an asian grocery store. So finding the ideal place which has all these amenities is the current problem given to the data scientist.\n"
    "### These kind of problems are very often encountered by every individual at some point of time so making use of this process can ease their work.\n"
   ]
  },
  {
   "cell_type": "code",
   "execution_count": null,
   "metadata": {},
   "outputs": [],
   "source": []
  }
 ],
 "metadata": {
  "kernelspec": {
   "display_name": "Python 3",
   "language": "python",
   "name": "python3"
  },
  "language_info": {
   "codemirror_mode": {
    "name": "ipython",
    "version": 3
   },
   "file_extension": ".py",
   "mimetype": "text/x-python",
   "name": "python",
   "nbconvert_exporter": "python",
   "pygments_lexer": "ipython3",
   "version": "3.6.8"
  }
 },
 "nbformat": 4,
 "nbformat_minor": 2
}
