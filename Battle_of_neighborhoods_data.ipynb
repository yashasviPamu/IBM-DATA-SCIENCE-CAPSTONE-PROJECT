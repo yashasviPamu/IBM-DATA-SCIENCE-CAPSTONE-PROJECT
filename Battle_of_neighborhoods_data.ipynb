{
 "cells": [
  {
   "cell_type": "markdown",
   "metadata": {},
   "source": [
    "<h1> <i><center> Capstone Project </center></i> \n",
    " <center><i> Battle of Neighbourhoods Introduction </i></center></h1>"
   ]
  },
  {
   "cell_type": "markdown",
   "metadata": {},
   "source": [
    "# Data:\n",
    "\n",
    "## We will utilize neighbourhoods information of Toronto and Scarborough, Foursquare information on venue categories, top tips, location data, ratings to tackle this task. Neighbourhood information can be accessed through: https://en.wikipedia.org/wiki/List_of_postal_codes_of_Canada:_M "
   ]
  },
  {
   "cell_type": "markdown",
   "metadata": {},
   "source": [
    "## The above link provides the postal code and borough and neighborhoods in Canada, including the information of most populated as well as least populated areas in Canada."
   ]
  },
  {
   "cell_type": "markdown",
   "metadata": {},
   "source": [
    "## The above link is scraped using beautifulsoup package in python, which contains prettify() function which displays every html tag in the webpage and thereby helping us to filter and scrape the required information and forming a dataframe which is then used in the later on stages for shortlisting the places and then finding their latitudes and longitudes of the neighborhoods by geocoder and then plotting the maps to visualize the places in our search and then narrowing them to final ideal place to move in."
   ]
  },
  {
   "cell_type": "markdown",
   "metadata": {},
   "source": [
    "## First requirement can be solved by applying K-means clustering to perform city segmentation. With the neighbourhoods being clustered into clusters, this task becomes finding the neighbourhoods within the same cluster as 'Central bay street'.\n",
    "## The Second and Third requirement can be solved by providing venue and ratings information from Foursquare API. The neighbourhoods with high ratings of chinese restanrants and asian grocery store will become our target neighbourhoods."
   ]
  },
  {
   "cell_type": "code",
   "execution_count": null,
   "metadata": {},
   "outputs": [],
   "source": []
  }
 ],
 "metadata": {
  "kernelspec": {
   "display_name": "Python 3",
   "language": "python",
   "name": "python3"
  },
  "language_info": {
   "codemirror_mode": {
    "name": "ipython",
    "version": 3
   },
   "file_extension": ".py",
   "mimetype": "text/x-python",
   "name": "python",
   "nbconvert_exporter": "python",
   "pygments_lexer": "ipython3",
   "version": "3.6.8"
  }
 },
 "nbformat": 4,
 "nbformat_minor": 2
}
